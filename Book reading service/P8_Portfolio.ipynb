{
 "cells": [
  {
   "cell_type": "markdown",
   "metadata": {},
   "source": [
    "# Проект \"сервис для чтения книг по подписке\"\n",
    "\n",
    "Коронавирус застал мир врасплох, изменив привычный порядок вещей. На какое-то время жители городов перестали выходить на улицу, посещать кафе и торговые центры. Зато стало больше времени для книг. Это заметили стартаперы — и бросились создавать приложения для тех, кто любит читать.\n",
    "Ваша компания решила быть на волне и купила крупный сервис для чтения книг по подписке. Ваша первая задача как аналитика — проанализировать базу данных.\n",
    "В ней — информация о книгах, издательствах, авторах, а также пользовательские обзоры книг. Эти данные помогут сформулировать ценностное предложение для нового продукта.\n",
    "\n",
    "Задача:\n",
    "1) [Посчитайте, сколько книг вышло после 1 января 2000 года;](#section_1)\n",
    "\n",
    "2) [Для каждой книги посчитайте количество обзоров и среднюю оценку;](#section_2)\n",
    "\n",
    "3) [Определите издательство, которое выпустило наибольшее число книг толще 50 страниц — так вы исключите из анализа брошюры;](#section_3)\n",
    "\n",
    "4) [Определите автора с самой высокой средней оценкой книг — учитывайте только книги с 50 и более оценками;](#section_4)\n",
    "\n",
    "5) [Посчитайте среднее количество обзоров от пользователей, которые поставили больше 48 оценок.](#section_5)\n",
    "\n",
    "Описание данных:\n",
    "\n",
    "Таблица books содержит данные о книгах:\n",
    "- book_id — идентификатор книги;\n",
    "- author_id — идентификатор автора;\n",
    "- title — название книги;\n",
    "- num_pages — количество страниц;\n",
    "- publication_date — дата публикации книги;\n",
    "- publisher_id — идентификатор издателя.\n",
    "\n",
    "Таблица authors содержит данные об авторах:\n",
    "- author_id — идентификатор автора;\n",
    "- author — имя автора.\n",
    "\n",
    "Таблица publishers содержит данные об издательствах:\n",
    "- publisher_id — идентификатор издательства;\n",
    "- publisher — название издательства;\n",
    "\n",
    "Таблица ratings содержит данные о пользовательских оценках книг:\n",
    "- rating_id — идентификатор оценки;\n",
    "- book_id — идентификатор книги;\n",
    "- username — имя пользователя, оставившего оценку;\n",
    "- rating — оценка книги.\n",
    "\n",
    "Таблица reviews содержит данные о пользовательских обзорах:\n",
    "- review_id — идентификатор обзора;\n",
    "- book_id — идентификатор книги;\n",
    "- username — имя автора обзора;\n",
    "- text — текст обзора."
   ]
  },
  {
   "cell_type": "markdown",
   "metadata": {},
   "source": [
    "Выполним подключение к базе данных."
   ]
  },
  {
   "cell_type": "code",
   "execution_count": 1,
   "metadata": {},
   "outputs": [],
   "source": [
    "# импортируем библиотеки\n",
    "import pandas as pd\n",
    "from sqlalchemy import text, create_engine"
   ]
  },
  {
   "cell_type": "code",
   "execution_count": 2,
   "metadata": {},
   "outputs": [],
   "source": [
    "# устанавливаем параметры\n",
    "db_config = {'user': 'praktikum_student', # имя пользователя\n",
    "'pwd': 'Sdf4$2;d-d30pp', # пароль\n",
    "'host': 'rc1b-wcoijxj3yxfsf3fs.mdb.yandexcloud.net',\n",
    "'port': 6432, # порт подключения\n",
    "'db': 'data-analyst-final-project-db'} # название базы данных\n",
    "connection_string = 'postgresql://{user}:{pwd}@{host}:{port}/{db}'.format(**db_config)"
   ]
  },
  {
   "cell_type": "code",
   "execution_count": 3,
   "metadata": {},
   "outputs": [],
   "source": [
    "# сохраняем коннектор\n",
    "engine = create_engine(connection_string, connect_args={'sslmode':'require'})"
   ]
  },
  {
   "cell_type": "markdown",
   "metadata": {},
   "source": [
    "Исследуем таблицы, напечатаем первые строки таблиц."
   ]
  },
  {
   "cell_type": "code",
   "execution_count": 4,
   "metadata": {},
   "outputs": [
    {
     "data": {
      "text/html": [
       "<div>\n",
       "<style scoped>\n",
       "    .dataframe tbody tr th:only-of-type {\n",
       "        vertical-align: middle;\n",
       "    }\n",
       "\n",
       "    .dataframe tbody tr th {\n",
       "        vertical-align: top;\n",
       "    }\n",
       "\n",
       "    .dataframe thead th {\n",
       "        text-align: right;\n",
       "    }\n",
       "</style>\n",
       "<table border=\"1\" class=\"dataframe\">\n",
       "  <thead>\n",
       "    <tr style=\"text-align: right;\">\n",
       "      <th></th>\n",
       "      <th>book_id</th>\n",
       "      <th>author_id</th>\n",
       "      <th>title</th>\n",
       "      <th>num_pages</th>\n",
       "      <th>publication_date</th>\n",
       "      <th>publisher_id</th>\n",
       "    </tr>\n",
       "  </thead>\n",
       "  <tbody>\n",
       "    <tr>\n",
       "      <th>0</th>\n",
       "      <td>1</td>\n",
       "      <td>546</td>\n",
       "      <td>'Salem's Lot</td>\n",
       "      <td>594</td>\n",
       "      <td>2005-11-01</td>\n",
       "      <td>93</td>\n",
       "    </tr>\n",
       "    <tr>\n",
       "      <th>1</th>\n",
       "      <td>2</td>\n",
       "      <td>465</td>\n",
       "      <td>1 000 Places to See Before You Die</td>\n",
       "      <td>992</td>\n",
       "      <td>2003-05-22</td>\n",
       "      <td>336</td>\n",
       "    </tr>\n",
       "    <tr>\n",
       "      <th>2</th>\n",
       "      <td>3</td>\n",
       "      <td>407</td>\n",
       "      <td>13 Little Blue Envelopes (Little Blue Envelope...</td>\n",
       "      <td>322</td>\n",
       "      <td>2010-12-21</td>\n",
       "      <td>135</td>\n",
       "    </tr>\n",
       "    <tr>\n",
       "      <th>3</th>\n",
       "      <td>4</td>\n",
       "      <td>82</td>\n",
       "      <td>1491: New Revelations of the Americas Before C...</td>\n",
       "      <td>541</td>\n",
       "      <td>2006-10-10</td>\n",
       "      <td>309</td>\n",
       "    </tr>\n",
       "    <tr>\n",
       "      <th>4</th>\n",
       "      <td>5</td>\n",
       "      <td>125</td>\n",
       "      <td>1776</td>\n",
       "      <td>386</td>\n",
       "      <td>2006-07-04</td>\n",
       "      <td>268</td>\n",
       "    </tr>\n",
       "  </tbody>\n",
       "</table>\n",
       "</div>"
      ],
      "text/plain": [
       "   book_id  author_id                                              title  \\\n",
       "0        1        546                                       'Salem's Lot   \n",
       "1        2        465                 1 000 Places to See Before You Die   \n",
       "2        3        407  13 Little Blue Envelopes (Little Blue Envelope...   \n",
       "3        4         82  1491: New Revelations of the Americas Before C...   \n",
       "4        5        125                                               1776   \n",
       "\n",
       "   num_pages publication_date  publisher_id  \n",
       "0        594       2005-11-01            93  \n",
       "1        992       2003-05-22           336  \n",
       "2        322       2010-12-21           135  \n",
       "3        541       2006-10-10           309  \n",
       "4        386       2006-07-04           268  "
      ]
     },
     "execution_count": 4,
     "metadata": {},
     "output_type": "execute_result"
    }
   ],
   "source": [
    "query = '''SELECT * FROM books LIMIT 5'''\n",
    "con=engine.connect()\n",
    "pd.io.sql.read_sql(sql=text(query), con = con)"
   ]
  },
  {
   "cell_type": "code",
   "execution_count": 5,
   "metadata": {},
   "outputs": [
    {
     "data": {
      "text/html": [
       "<div>\n",
       "<style scoped>\n",
       "    .dataframe tbody tr th:only-of-type {\n",
       "        vertical-align: middle;\n",
       "    }\n",
       "\n",
       "    .dataframe tbody tr th {\n",
       "        vertical-align: top;\n",
       "    }\n",
       "\n",
       "    .dataframe thead th {\n",
       "        text-align: right;\n",
       "    }\n",
       "</style>\n",
       "<table border=\"1\" class=\"dataframe\">\n",
       "  <thead>\n",
       "    <tr style=\"text-align: right;\">\n",
       "      <th></th>\n",
       "      <th>author_id</th>\n",
       "      <th>author</th>\n",
       "    </tr>\n",
       "  </thead>\n",
       "  <tbody>\n",
       "    <tr>\n",
       "      <th>0</th>\n",
       "      <td>1</td>\n",
       "      <td>A.S. Byatt</td>\n",
       "    </tr>\n",
       "    <tr>\n",
       "      <th>1</th>\n",
       "      <td>2</td>\n",
       "      <td>Aesop/Laura Harris/Laura Gibbs</td>\n",
       "    </tr>\n",
       "    <tr>\n",
       "      <th>2</th>\n",
       "      <td>3</td>\n",
       "      <td>Agatha Christie</td>\n",
       "    </tr>\n",
       "    <tr>\n",
       "      <th>3</th>\n",
       "      <td>4</td>\n",
       "      <td>Alan Brennert</td>\n",
       "    </tr>\n",
       "    <tr>\n",
       "      <th>4</th>\n",
       "      <td>5</td>\n",
       "      <td>Alan Moore/David   Lloyd</td>\n",
       "    </tr>\n",
       "  </tbody>\n",
       "</table>\n",
       "</div>"
      ],
      "text/plain": [
       "   author_id                          author\n",
       "0          1                      A.S. Byatt\n",
       "1          2  Aesop/Laura Harris/Laura Gibbs\n",
       "2          3                 Agatha Christie\n",
       "3          4                   Alan Brennert\n",
       "4          5        Alan Moore/David   Lloyd"
      ]
     },
     "execution_count": 5,
     "metadata": {},
     "output_type": "execute_result"
    }
   ],
   "source": [
    "query = '''SELECT * FROM authors LIMIT 5'''\n",
    "con=engine.connect()\n",
    "pd.io.sql.read_sql(sql=text(query), con = con)"
   ]
  },
  {
   "cell_type": "code",
   "execution_count": 6,
   "metadata": {},
   "outputs": [
    {
     "data": {
      "text/html": [
       "<div>\n",
       "<style scoped>\n",
       "    .dataframe tbody tr th:only-of-type {\n",
       "        vertical-align: middle;\n",
       "    }\n",
       "\n",
       "    .dataframe tbody tr th {\n",
       "        vertical-align: top;\n",
       "    }\n",
       "\n",
       "    .dataframe thead th {\n",
       "        text-align: right;\n",
       "    }\n",
       "</style>\n",
       "<table border=\"1\" class=\"dataframe\">\n",
       "  <thead>\n",
       "    <tr style=\"text-align: right;\">\n",
       "      <th></th>\n",
       "      <th>publisher_id</th>\n",
       "      <th>publisher</th>\n",
       "    </tr>\n",
       "  </thead>\n",
       "  <tbody>\n",
       "    <tr>\n",
       "      <th>0</th>\n",
       "      <td>1</td>\n",
       "      <td>Ace</td>\n",
       "    </tr>\n",
       "    <tr>\n",
       "      <th>1</th>\n",
       "      <td>2</td>\n",
       "      <td>Ace Book</td>\n",
       "    </tr>\n",
       "    <tr>\n",
       "      <th>2</th>\n",
       "      <td>3</td>\n",
       "      <td>Ace Books</td>\n",
       "    </tr>\n",
       "    <tr>\n",
       "      <th>3</th>\n",
       "      <td>4</td>\n",
       "      <td>Ace Hardcover</td>\n",
       "    </tr>\n",
       "    <tr>\n",
       "      <th>4</th>\n",
       "      <td>5</td>\n",
       "      <td>Addison Wesley Publishing Company</td>\n",
       "    </tr>\n",
       "  </tbody>\n",
       "</table>\n",
       "</div>"
      ],
      "text/plain": [
       "   publisher_id                          publisher\n",
       "0             1                                Ace\n",
       "1             2                           Ace Book\n",
       "2             3                          Ace Books\n",
       "3             4                      Ace Hardcover\n",
       "4             5  Addison Wesley Publishing Company"
      ]
     },
     "execution_count": 6,
     "metadata": {},
     "output_type": "execute_result"
    }
   ],
   "source": [
    "query = '''SELECT * FROM publishers LIMIT 5'''\n",
    "con=engine.connect()\n",
    "pd.io.sql.read_sql(sql=text(query), con = con)"
   ]
  },
  {
   "cell_type": "code",
   "execution_count": 7,
   "metadata": {},
   "outputs": [
    {
     "data": {
      "text/html": [
       "<div>\n",
       "<style scoped>\n",
       "    .dataframe tbody tr th:only-of-type {\n",
       "        vertical-align: middle;\n",
       "    }\n",
       "\n",
       "    .dataframe tbody tr th {\n",
       "        vertical-align: top;\n",
       "    }\n",
       "\n",
       "    .dataframe thead th {\n",
       "        text-align: right;\n",
       "    }\n",
       "</style>\n",
       "<table border=\"1\" class=\"dataframe\">\n",
       "  <thead>\n",
       "    <tr style=\"text-align: right;\">\n",
       "      <th></th>\n",
       "      <th>rating_id</th>\n",
       "      <th>book_id</th>\n",
       "      <th>username</th>\n",
       "      <th>rating</th>\n",
       "    </tr>\n",
       "  </thead>\n",
       "  <tbody>\n",
       "    <tr>\n",
       "      <th>0</th>\n",
       "      <td>1</td>\n",
       "      <td>1</td>\n",
       "      <td>ryanfranco</td>\n",
       "      <td>4</td>\n",
       "    </tr>\n",
       "    <tr>\n",
       "      <th>1</th>\n",
       "      <td>2</td>\n",
       "      <td>1</td>\n",
       "      <td>grantpatricia</td>\n",
       "      <td>2</td>\n",
       "    </tr>\n",
       "    <tr>\n",
       "      <th>2</th>\n",
       "      <td>3</td>\n",
       "      <td>1</td>\n",
       "      <td>brandtandrea</td>\n",
       "      <td>5</td>\n",
       "    </tr>\n",
       "    <tr>\n",
       "      <th>3</th>\n",
       "      <td>4</td>\n",
       "      <td>2</td>\n",
       "      <td>lorichen</td>\n",
       "      <td>3</td>\n",
       "    </tr>\n",
       "    <tr>\n",
       "      <th>4</th>\n",
       "      <td>5</td>\n",
       "      <td>2</td>\n",
       "      <td>mariokeller</td>\n",
       "      <td>2</td>\n",
       "    </tr>\n",
       "  </tbody>\n",
       "</table>\n",
       "</div>"
      ],
      "text/plain": [
       "   rating_id  book_id       username  rating\n",
       "0          1        1     ryanfranco       4\n",
       "1          2        1  grantpatricia       2\n",
       "2          3        1   brandtandrea       5\n",
       "3          4        2       lorichen       3\n",
       "4          5        2    mariokeller       2"
      ]
     },
     "execution_count": 7,
     "metadata": {},
     "output_type": "execute_result"
    }
   ],
   "source": [
    "query = '''SELECT * FROM ratings LIMIT 5'''\n",
    "con=engine.connect()\n",
    "pd.io.sql.read_sql(sql=text(query), con = con)"
   ]
  },
  {
   "cell_type": "code",
   "execution_count": 8,
   "metadata": {},
   "outputs": [
    {
     "data": {
      "text/html": [
       "<div>\n",
       "<style scoped>\n",
       "    .dataframe tbody tr th:only-of-type {\n",
       "        vertical-align: middle;\n",
       "    }\n",
       "\n",
       "    .dataframe tbody tr th {\n",
       "        vertical-align: top;\n",
       "    }\n",
       "\n",
       "    .dataframe thead th {\n",
       "        text-align: right;\n",
       "    }\n",
       "</style>\n",
       "<table border=\"1\" class=\"dataframe\">\n",
       "  <thead>\n",
       "    <tr style=\"text-align: right;\">\n",
       "      <th></th>\n",
       "      <th>review_id</th>\n",
       "      <th>book_id</th>\n",
       "      <th>username</th>\n",
       "      <th>text</th>\n",
       "    </tr>\n",
       "  </thead>\n",
       "  <tbody>\n",
       "    <tr>\n",
       "      <th>0</th>\n",
       "      <td>1</td>\n",
       "      <td>1</td>\n",
       "      <td>brandtandrea</td>\n",
       "      <td>Mention society tell send professor analysis. ...</td>\n",
       "    </tr>\n",
       "    <tr>\n",
       "      <th>1</th>\n",
       "      <td>2</td>\n",
       "      <td>1</td>\n",
       "      <td>ryanfranco</td>\n",
       "      <td>Foot glass pretty audience hit themselves. Amo...</td>\n",
       "    </tr>\n",
       "    <tr>\n",
       "      <th>2</th>\n",
       "      <td>3</td>\n",
       "      <td>2</td>\n",
       "      <td>lorichen</td>\n",
       "      <td>Listen treat keep worry. Miss husband tax but ...</td>\n",
       "    </tr>\n",
       "    <tr>\n",
       "      <th>3</th>\n",
       "      <td>4</td>\n",
       "      <td>3</td>\n",
       "      <td>johnsonamanda</td>\n",
       "      <td>Finally month interesting blue could nature cu...</td>\n",
       "    </tr>\n",
       "    <tr>\n",
       "      <th>4</th>\n",
       "      <td>5</td>\n",
       "      <td>3</td>\n",
       "      <td>scotttamara</td>\n",
       "      <td>Nation purpose heavy give wait song will. List...</td>\n",
       "    </tr>\n",
       "  </tbody>\n",
       "</table>\n",
       "</div>"
      ],
      "text/plain": [
       "   review_id  book_id       username  \\\n",
       "0          1        1   brandtandrea   \n",
       "1          2        1     ryanfranco   \n",
       "2          3        2       lorichen   \n",
       "3          4        3  johnsonamanda   \n",
       "4          5        3    scotttamara   \n",
       "\n",
       "                                                text  \n",
       "0  Mention society tell send professor analysis. ...  \n",
       "1  Foot glass pretty audience hit themselves. Amo...  \n",
       "2  Listen treat keep worry. Miss husband tax but ...  \n",
       "3  Finally month interesting blue could nature cu...  \n",
       "4  Nation purpose heavy give wait song will. List...  "
      ]
     },
     "execution_count": 8,
     "metadata": {},
     "output_type": "execute_result"
    }
   ],
   "source": [
    "query = '''SELECT * FROM reviews LIMIT 5'''\n",
    "con=engine.connect()\n",
    "pd.io.sql.read_sql(sql=text(query), con = con)"
   ]
  },
  {
   "cell_type": "markdown",
   "metadata": {},
   "source": [
    "Из выведенных данных видно, что они соответствуют описанию и обозначенной структуре."
   ]
  },
  {
   "cell_type": "markdown",
   "metadata": {},
   "source": [
    "## Посчитайте, сколько книг вышло после 1 января 2000 года.\n"
   ]
  },
  {
   "cell_type": "code",
   "execution_count": 9,
   "metadata": {},
   "outputs": [
    {
     "data": {
      "text/html": [
       "<div>\n",
       "<style scoped>\n",
       "    .dataframe tbody tr th:only-of-type {\n",
       "        vertical-align: middle;\n",
       "    }\n",
       "\n",
       "    .dataframe tbody tr th {\n",
       "        vertical-align: top;\n",
       "    }\n",
       "\n",
       "    .dataframe thead th {\n",
       "        text-align: right;\n",
       "    }\n",
       "</style>\n",
       "<table border=\"1\" class=\"dataframe\">\n",
       "  <thead>\n",
       "    <tr style=\"text-align: right;\">\n",
       "      <th></th>\n",
       "      <th>count</th>\n",
       "    </tr>\n",
       "  </thead>\n",
       "  <tbody>\n",
       "    <tr>\n",
       "      <th>0</th>\n",
       "      <td>819</td>\n",
       "    </tr>\n",
       "  </tbody>\n",
       "</table>\n",
       "</div>"
      ],
      "text/plain": [
       "   count\n",
       "0    819"
      ]
     },
     "execution_count": 9,
     "metadata": {},
     "output_type": "execute_result"
    }
   ],
   "source": [
    "query = '''SELECT COUNT(DISTINCT book_id)\n",
    "FROM books\n",
    "WHERE CAST(publication_date AS date) > '2000-01-01'\n",
    "'''\n",
    "con=engine.connect()\n",
    "pd.io.sql.read_sql(sql=text(query), con = con)"
   ]
  },
  {
   "cell_type": "markdown",
   "metadata": {},
   "source": [
    "После 1 января 2000 года вышло 819 книг."
   ]
  },
  {
   "cell_type": "markdown",
   "metadata": {},
   "source": [
    "<a id='section_2'><a>"
   ]
  },
  {
   "cell_type": "markdown",
   "metadata": {},
   "source": [
    "## Для каждой книги посчитайте количество обзоров и среднюю оценку;\n"
   ]
  },
  {
   "cell_type": "markdown",
   "metadata": {},
   "source": [
    "Для подсчета количества обзоров объединим таблицу books с таблицей reviews, для подсчета средней оценки - с таблицей ratings, объединим по колонке book_id."
   ]
  },
  {
   "cell_type": "code",
   "execution_count": 10,
   "metadata": {},
   "outputs": [
    {
     "data": {
      "text/html": [
       "<div>\n",
       "<style scoped>\n",
       "    .dataframe tbody tr th:only-of-type {\n",
       "        vertical-align: middle;\n",
       "    }\n",
       "\n",
       "    .dataframe tbody tr th {\n",
       "        vertical-align: top;\n",
       "    }\n",
       "\n",
       "    .dataframe thead th {\n",
       "        text-align: right;\n",
       "    }\n",
       "</style>\n",
       "<table border=\"1\" class=\"dataframe\">\n",
       "  <thead>\n",
       "    <tr style=\"text-align: right;\">\n",
       "      <th></th>\n",
       "      <th>book_id</th>\n",
       "      <th>title</th>\n",
       "      <th>count</th>\n",
       "      <th>round</th>\n",
       "    </tr>\n",
       "  </thead>\n",
       "  <tbody>\n",
       "    <tr>\n",
       "      <th>0</th>\n",
       "      <td>1</td>\n",
       "      <td>'Salem's Lot</td>\n",
       "      <td>2</td>\n",
       "      <td>3.7</td>\n",
       "    </tr>\n",
       "    <tr>\n",
       "      <th>1</th>\n",
       "      <td>2</td>\n",
       "      <td>1 000 Places to See Before You Die</td>\n",
       "      <td>1</td>\n",
       "      <td>2.5</td>\n",
       "    </tr>\n",
       "    <tr>\n",
       "      <th>2</th>\n",
       "      <td>3</td>\n",
       "      <td>13 Little Blue Envelopes (Little Blue Envelope...</td>\n",
       "      <td>3</td>\n",
       "      <td>4.7</td>\n",
       "    </tr>\n",
       "    <tr>\n",
       "      <th>3</th>\n",
       "      <td>4</td>\n",
       "      <td>1491: New Revelations of the Americas Before C...</td>\n",
       "      <td>2</td>\n",
       "      <td>4.5</td>\n",
       "    </tr>\n",
       "    <tr>\n",
       "      <th>4</th>\n",
       "      <td>5</td>\n",
       "      <td>1776</td>\n",
       "      <td>4</td>\n",
       "      <td>4.0</td>\n",
       "    </tr>\n",
       "    <tr>\n",
       "      <th>...</th>\n",
       "      <td>...</td>\n",
       "      <td>...</td>\n",
       "      <td>...</td>\n",
       "      <td>...</td>\n",
       "    </tr>\n",
       "    <tr>\n",
       "      <th>995</th>\n",
       "      <td>996</td>\n",
       "      <td>Wyrd Sisters (Discworld  #6; Witches #2)</td>\n",
       "      <td>3</td>\n",
       "      <td>3.7</td>\n",
       "    </tr>\n",
       "    <tr>\n",
       "      <th>996</th>\n",
       "      <td>997</td>\n",
       "      <td>Xenocide (Ender's Saga  #3)</td>\n",
       "      <td>3</td>\n",
       "      <td>3.4</td>\n",
       "    </tr>\n",
       "    <tr>\n",
       "      <th>997</th>\n",
       "      <td>998</td>\n",
       "      <td>Year of Wonders</td>\n",
       "      <td>4</td>\n",
       "      <td>3.2</td>\n",
       "    </tr>\n",
       "    <tr>\n",
       "      <th>998</th>\n",
       "      <td>999</td>\n",
       "      <td>You Suck (A Love Story  #2)</td>\n",
       "      <td>2</td>\n",
       "      <td>4.5</td>\n",
       "    </tr>\n",
       "    <tr>\n",
       "      <th>999</th>\n",
       "      <td>1000</td>\n",
       "      <td>Zen and the Art of Motorcycle Maintenance: An ...</td>\n",
       "      <td>4</td>\n",
       "      <td>3.8</td>\n",
       "    </tr>\n",
       "  </tbody>\n",
       "</table>\n",
       "<p>1000 rows × 4 columns</p>\n",
       "</div>"
      ],
      "text/plain": [
       "     book_id                                              title  count  round\n",
       "0          1                                       'Salem's Lot      2    3.7\n",
       "1          2                 1 000 Places to See Before You Die      1    2.5\n",
       "2          3  13 Little Blue Envelopes (Little Blue Envelope...      3    4.7\n",
       "3          4  1491: New Revelations of the Americas Before C...      2    4.5\n",
       "4          5                                               1776      4    4.0\n",
       "..       ...                                                ...    ...    ...\n",
       "995      996           Wyrd Sisters (Discworld  #6; Witches #2)      3    3.7\n",
       "996      997                        Xenocide (Ender's Saga  #3)      3    3.4\n",
       "997      998                                    Year of Wonders      4    3.2\n",
       "998      999                        You Suck (A Love Story  #2)      2    4.5\n",
       "999     1000  Zen and the Art of Motorcycle Maintenance: An ...      4    3.8\n",
       "\n",
       "[1000 rows x 4 columns]"
      ]
     },
     "execution_count": 10,
     "metadata": {},
     "output_type": "execute_result"
    }
   ],
   "source": [
    "query = '''\n",
    "SELECT b.book_id,\n",
    "       b.title,\n",
    "       COUNT(DISTINCT r.review_id),\n",
    "       ROUND(AVG(ra.rating), 1)\n",
    "FROM books AS b\n",
    "LEFT JOIN reviews AS r ON b.book_id = r.book_id\n",
    "LEFT JOIN ratings AS ra ON b.book_id = ra.book_id\n",
    "GROUP BY b.book_id\n",
    "'''\n",
    "con=engine.connect()\n",
    "pd.io.sql.read_sql(sql=text(query), con = con)"
   ]
  },
  {
   "cell_type": "markdown",
   "metadata": {},
   "source": [
    "Количество обзоров по книге в колонке count, средняя оценка в колонке round."
   ]
  },
  {
   "cell_type": "markdown",
   "metadata": {},
   "source": [
    "<a id='section_3'><a>"
   ]
  },
  {
   "cell_type": "markdown",
   "metadata": {},
   "source": [
    "## Определите издательство, которое выпустило наибольшее число книг толще 50 страниц — так вы исключите из анализа брошюры;\n"
   ]
  },
  {
   "cell_type": "code",
   "execution_count": 11,
   "metadata": {},
   "outputs": [
    {
     "data": {
      "text/html": [
       "<div>\n",
       "<style scoped>\n",
       "    .dataframe tbody tr th:only-of-type {\n",
       "        vertical-align: middle;\n",
       "    }\n",
       "\n",
       "    .dataframe tbody tr th {\n",
       "        vertical-align: top;\n",
       "    }\n",
       "\n",
       "    .dataframe thead th {\n",
       "        text-align: right;\n",
       "    }\n",
       "</style>\n",
       "<table border=\"1\" class=\"dataframe\">\n",
       "  <thead>\n",
       "    <tr style=\"text-align: right;\">\n",
       "      <th></th>\n",
       "      <th>publisher</th>\n",
       "      <th>count</th>\n",
       "    </tr>\n",
       "  </thead>\n",
       "  <tbody>\n",
       "    <tr>\n",
       "      <th>0</th>\n",
       "      <td>Penguin Books</td>\n",
       "      <td>42</td>\n",
       "    </tr>\n",
       "    <tr>\n",
       "      <th>1</th>\n",
       "      <td>Vintage</td>\n",
       "      <td>31</td>\n",
       "    </tr>\n",
       "    <tr>\n",
       "      <th>2</th>\n",
       "      <td>Grand Central Publishing</td>\n",
       "      <td>25</td>\n",
       "    </tr>\n",
       "    <tr>\n",
       "      <th>3</th>\n",
       "      <td>Penguin Classics</td>\n",
       "      <td>24</td>\n",
       "    </tr>\n",
       "    <tr>\n",
       "      <th>4</th>\n",
       "      <td>Bantam</td>\n",
       "      <td>19</td>\n",
       "    </tr>\n",
       "    <tr>\n",
       "      <th>...</th>\n",
       "      <td>...</td>\n",
       "      <td>...</td>\n",
       "    </tr>\n",
       "    <tr>\n",
       "      <th>329</th>\n",
       "      <td>Random House Anchor</td>\n",
       "      <td>1</td>\n",
       "    </tr>\n",
       "    <tr>\n",
       "      <th>330</th>\n",
       "      <td>Random House Audio Publishing Group</td>\n",
       "      <td>1</td>\n",
       "    </tr>\n",
       "    <tr>\n",
       "      <th>331</th>\n",
       "      <td>Random House Large Print Publishing</td>\n",
       "      <td>1</td>\n",
       "    </tr>\n",
       "    <tr>\n",
       "      <th>332</th>\n",
       "      <td>Random House Trade</td>\n",
       "      <td>1</td>\n",
       "    </tr>\n",
       "    <tr>\n",
       "      <th>333</th>\n",
       "      <td>Random House Vintage</td>\n",
       "      <td>1</td>\n",
       "    </tr>\n",
       "  </tbody>\n",
       "</table>\n",
       "<p>334 rows × 2 columns</p>\n",
       "</div>"
      ],
      "text/plain": [
       "                               publisher  count\n",
       "0                          Penguin Books     42\n",
       "1                                Vintage     31\n",
       "2               Grand Central Publishing     25\n",
       "3                       Penguin Classics     24\n",
       "4                                 Bantam     19\n",
       "..                                   ...    ...\n",
       "329                  Random House Anchor      1\n",
       "330  Random House Audio Publishing Group      1\n",
       "331  Random House Large Print Publishing      1\n",
       "332                   Random House Trade      1\n",
       "333                 Random House Vintage      1\n",
       "\n",
       "[334 rows x 2 columns]"
      ]
     },
     "execution_count": 11,
     "metadata": {},
     "output_type": "execute_result"
    }
   ],
   "source": [
    "query = '''\n",
    "SELECT p.publisher,\n",
    "       COUNT(b.book_id)\n",
    "FROM books AS b\n",
    "LEFT JOIN publishers AS p ON b.publisher_id = p.publisher_id\n",
    "WHERE b.num_pages > 50\n",
    "GROUP BY p.publisher\n",
    "ORDER BY COUNT(DISTINCT b.book_id) DESC\n",
    "'''\n",
    "con=engine.connect()\n",
    "pd.io.sql.read_sql(sql=text(query), con = con)"
   ]
  },
  {
   "cell_type": "markdown",
   "metadata": {},
   "source": [
    "Наибольшее количество книг выпустило издательство Penguin Books - 42 книги."
   ]
  },
  {
   "cell_type": "markdown",
   "metadata": {},
   "source": [
    "<a id='section_4'><a>"
   ]
  },
  {
   "cell_type": "markdown",
   "metadata": {},
   "source": [
    "## Определите автора с самой высокой средней оценкой книг — учитывайте только книги с 50 и более оценками;\n"
   ]
  },
  {
   "cell_type": "code",
   "execution_count": 17,
   "metadata": {},
   "outputs": [
    {
     "data": {
      "text/html": [
       "<div>\n",
       "<style scoped>\n",
       "    .dataframe tbody tr th:only-of-type {\n",
       "        vertical-align: middle;\n",
       "    }\n",
       "\n",
       "    .dataframe tbody tr th {\n",
       "        vertical-align: top;\n",
       "    }\n",
       "\n",
       "    .dataframe thead th {\n",
       "        text-align: right;\n",
       "    }\n",
       "</style>\n",
       "<table border=\"1\" class=\"dataframe\">\n",
       "  <thead>\n",
       "    <tr style=\"text-align: right;\">\n",
       "      <th></th>\n",
       "      <th>author</th>\n",
       "      <th>round</th>\n",
       "    </tr>\n",
       "  </thead>\n",
       "  <tbody>\n",
       "    <tr>\n",
       "      <th>0</th>\n",
       "      <td>J.K. Rowling/Mary GrandPré</td>\n",
       "      <td>4.29</td>\n",
       "    </tr>\n",
       "  </tbody>\n",
       "</table>\n",
       "</div>"
      ],
      "text/plain": [
       "                       author  round\n",
       "0  J.K. Rowling/Mary GrandPré   4.29"
      ]
     },
     "execution_count": 17,
     "metadata": {},
     "output_type": "execute_result"
    }
   ],
   "source": [
    "query = '''\n",
    "WITH rating_50 AS (\n",
    "SELECT book_id,\n",
    "       COUNT(rating)\n",
    "FROM ratings\n",
    "GROUP BY book_id\n",
    "HAVING COUNT(rating) >= 50\n",
    "ORDER BY COUNT(rating) DESC\n",
    "),\n",
    "\n",
    "books_AVG_rating AS (\n",
    "SELECT book_id,\n",
    "       ROUND(AVG(rating),2) AS rating_avg\n",
    "FROM ratings\n",
    "GROUP BY book_id\n",
    "ORDER BY ROUND(AVG(rating),2) DESC\n",
    "), \n",
    " \n",
    " books_rating AS (\n",
    "SELECT r.book_id,\n",
    "       rating_avg\n",
    "FROM rating_50 AS r\n",
    "LEFT JOIN books_AVG_rating AS b ON r.book_id = b.book_id\n",
    "),\n",
    "\n",
    " books_author AS (\n",
    "SELECT book_id,\n",
    "       author\n",
    "FROM books AS b\n",
    "LEFT JOIN authors AS a ON b.author_id = a.author_id\n",
    ")\n",
    "\n",
    "SELECT author,\n",
    "       ROUND(AVG(rating_avg),2)\n",
    "FROM books_rating AS br\n",
    "LEFT JOIN books_author AS ba ON br.book_id = ba.book_id\n",
    "GROUP BY author\n",
    "ORDER BY ROUND(AVG(rating_avg),2) DESC\n",
    "LIMIT 1\n",
    "\n",
    "'''\n",
    "con=engine.connect()\n",
    "pd.io.sql.read_sql(sql=text(query), con = con)"
   ]
  },
  {
   "cell_type": "markdown",
   "metadata": {},
   "source": [
    "Автор с самой высокой средней оценкой книг оказался J.K. Rowling/Mary GrandPré, оценка 4.29."
   ]
  },
  {
   "cell_type": "markdown",
   "metadata": {},
   "source": [
    "<a id='section_5'><a>"
   ]
  },
  {
   "cell_type": "markdown",
   "metadata": {},
   "source": [
    "## Посчитайте среднее количество обзоров от пользователей, которые поставили больше 48 оценок."
   ]
  },
  {
   "cell_type": "code",
   "execution_count": 13,
   "metadata": {},
   "outputs": [
    {
     "data": {
      "text/html": [
       "<div>\n",
       "<style scoped>\n",
       "    .dataframe tbody tr th:only-of-type {\n",
       "        vertical-align: middle;\n",
       "    }\n",
       "\n",
       "    .dataframe tbody tr th {\n",
       "        vertical-align: top;\n",
       "    }\n",
       "\n",
       "    .dataframe thead th {\n",
       "        text-align: right;\n",
       "    }\n",
       "</style>\n",
       "<table border=\"1\" class=\"dataframe\">\n",
       "  <thead>\n",
       "    <tr style=\"text-align: right;\">\n",
       "      <th></th>\n",
       "      <th>avg</th>\n",
       "    </tr>\n",
       "  </thead>\n",
       "  <tbody>\n",
       "    <tr>\n",
       "      <th>0</th>\n",
       "      <td>24.0</td>\n",
       "    </tr>\n",
       "  </tbody>\n",
       "</table>\n",
       "</div>"
      ],
      "text/plain": [
       "    avg\n",
       "0  24.0"
      ]
     },
     "execution_count": 13,
     "metadata": {},
     "output_type": "execute_result"
    }
   ],
   "source": [
    "query = '''\n",
    "WITH rating_greater48 AS (\n",
    "SELECT username,\n",
    "       COUNT(rating_id)\n",
    "FROM ratings\n",
    "GROUP BY username\n",
    "HAVING COUNT(rating_id) > 48\n",
    "),\n",
    "\n",
    " user_reviews_count AS (\n",
    "SELECT username,\n",
    "       COUNT(review_id) AS reviews_count\n",
    "FROM reviews \n",
    "GROUP BY username\n",
    "),\n",
    "\n",
    "reviews_count_by_users AS (\n",
    "SELECT rg.username,\n",
    "       reviews_count\n",
    "FROM rating_greater48 AS rg\n",
    "INNER JOIN user_reviews_count AS us ON rg.username = us.username\n",
    ")\n",
    "\n",
    "SELECT AVG(reviews_count)\n",
    "FROM reviews_count_by_users\n",
    "\n",
    "'''\n",
    "con=engine.connect()\n",
    "pd.io.sql.read_sql(sql=text(query), con = con)"
   ]
  },
  {
   "cell_type": "markdown",
   "metadata": {},
   "source": [
    "Среднее количество обзоров от пользователей, которые поставили больше 48 оценок, равно 24."
   ]
  },
  {
   "cell_type": "markdown",
   "metadata": {},
   "source": [
    "Вывод:\n",
    "- После 1 января 2000 года вышло 818 книг.\n",
    "- Найдено количество обзоров (в колонке count) и средняя оценка (в колонке round) по каждой книге.\n",
    "- Наибольшее количество книг выпустило издательство Penguin Books - 42 книги.\n",
    "- Автор с самой высокой средней оценкой книг оказался J.K. Rowling/Mary GrandPré, оценка 4.29.\n",
    "- Среднее количество обзоров от пользователей, которые поставили больше 48 оценок, равно 24.\n",
    "\n",
    "На основе имеющейся базы данных можно:\n",
    "- найти популярные по отзывам книги и сделать по ним рекламное предложение,\n",
    "- по авторам книг, имеющим высокий рейтинг, при выходе новой книги также можно сделать рекламу с акцентом на автора,\n",
    "- маркетинговое предложение можно сделать основываясь на издательстве, которое выпустила наибольшее количество книг,\n",
    "- также можно собрать книги с наибольшим количеством отзывов, иногда протеворечивых, чтобы вызвать интерес у читателей."
   ]
  },
  {
   "cell_type": "code",
   "execution_count": null,
   "metadata": {},
   "outputs": [],
   "source": []
  }
 ],
 "metadata": {
  "ExecuteTimeLog": [
   {
    "duration": 9411,
    "start_time": "2024-11-28T07:38:24.468Z"
   },
   {
    "duration": 124,
    "start_time": "2024-11-28T08:01:15.670Z"
   },
   {
    "duration": 3,
    "start_time": "2024-11-28T08:04:26.412Z"
   },
   {
    "duration": 158,
    "start_time": "2024-11-28T08:04:40.342Z"
   },
   {
    "duration": 52,
    "start_time": "2024-11-28T08:05:03.505Z"
   },
   {
    "duration": 4,
    "start_time": "2024-11-28T08:05:27.874Z"
   },
   {
    "duration": 215,
    "start_time": "2024-11-28T08:05:29.478Z"
   },
   {
    "duration": 135,
    "start_time": "2024-11-28T08:05:31.130Z"
   },
   {
    "duration": 50,
    "start_time": "2024-11-28T08:06:01.166Z"
   },
   {
    "duration": 53,
    "start_time": "2024-11-28T08:06:32.031Z"
   },
   {
    "duration": 52,
    "start_time": "2024-11-28T08:06:32.943Z"
   },
   {
    "duration": 51,
    "start_time": "2024-11-28T08:23:09.846Z"
   },
   {
    "duration": 145,
    "start_time": "2024-11-28T08:31:33.860Z"
   },
   {
    "duration": 61,
    "start_time": "2024-11-28T08:57:34.982Z"
   },
   {
    "duration": 148,
    "start_time": "2024-11-28T08:57:52.743Z"
   },
   {
    "duration": 146,
    "start_time": "2024-11-28T08:58:05.237Z"
   },
   {
    "duration": 157,
    "start_time": "2024-11-28T08:59:12.643Z"
   },
   {
    "duration": 91,
    "start_time": "2024-11-28T09:01:01.793Z"
   },
   {
    "duration": 72,
    "start_time": "2024-11-28T09:13:08.991Z"
   },
   {
    "duration": 61,
    "start_time": "2024-11-28T09:14:07.828Z"
   },
   {
    "duration": 59,
    "start_time": "2024-11-28T09:14:40.025Z"
   },
   {
    "duration": 61,
    "start_time": "2024-11-28T09:15:21.242Z"
   },
   {
    "duration": 162,
    "start_time": "2024-11-28T09:15:37.266Z"
   },
   {
    "duration": 83,
    "start_time": "2024-11-28T09:15:51.365Z"
   },
   {
    "duration": 57,
    "start_time": "2024-11-28T09:17:03.387Z"
   },
   {
    "duration": 61,
    "start_time": "2024-11-28T09:25:21.159Z"
   },
   {
    "duration": 59,
    "start_time": "2024-11-28T09:25:45.780Z"
   },
   {
    "duration": 77,
    "start_time": "2024-11-28T09:36:53.907Z"
   },
   {
    "duration": 60,
    "start_time": "2024-11-28T09:37:17.421Z"
   },
   {
    "duration": 58,
    "start_time": "2024-11-28T09:37:54.322Z"
   },
   {
    "duration": 44,
    "start_time": "2024-11-28T09:38:28.537Z"
   },
   {
    "duration": 53,
    "start_time": "2024-11-28T09:38:51.076Z"
   },
   {
    "duration": 72,
    "start_time": "2024-11-28T09:43:44.946Z"
   },
   {
    "duration": 43,
    "start_time": "2024-11-28T09:44:03.904Z"
   },
   {
    "duration": 78,
    "start_time": "2024-11-28T09:49:09.142Z"
   },
   {
    "duration": 61,
    "start_time": "2024-11-28T09:49:51.897Z"
   },
   {
    "duration": 142,
    "start_time": "2024-11-28T09:50:01.493Z"
   },
   {
    "duration": 159,
    "start_time": "2024-11-28T09:50:15.310Z"
   },
   {
    "duration": 59,
    "start_time": "2024-11-28T09:50:31.059Z"
   },
   {
    "duration": 70,
    "start_time": "2024-11-28T09:53:28.234Z"
   },
   {
    "duration": 70,
    "start_time": "2024-11-28T10:34:02.099Z"
   },
   {
    "duration": 45,
    "start_time": "2024-11-28T10:34:11.222Z"
   },
   {
    "duration": 70,
    "start_time": "2024-11-28T10:34:26.297Z"
   },
   {
    "duration": 43,
    "start_time": "2024-11-28T10:35:11.509Z"
   },
   {
    "duration": 54,
    "start_time": "2024-11-28T10:41:48.534Z"
   },
   {
    "duration": 55,
    "start_time": "2024-11-28T10:42:22.936Z"
   },
   {
    "duration": 55,
    "start_time": "2024-11-28T10:42:52.951Z"
   },
   {
    "duration": 72,
    "start_time": "2024-11-28T10:47:15.314Z"
   },
   {
    "duration": 60,
    "start_time": "2024-11-28T10:48:02.349Z"
   },
   {
    "duration": 167,
    "start_time": "2024-11-28T10:49:19.441Z"
   },
   {
    "duration": 60,
    "start_time": "2024-11-28T10:50:44.961Z"
   },
   {
    "duration": 153,
    "start_time": "2024-11-28T10:51:48.131Z"
   },
   {
    "duration": 138,
    "start_time": "2024-11-28T10:52:06.215Z"
   },
   {
    "duration": 139,
    "start_time": "2024-11-28T10:53:45.390Z"
   },
   {
    "duration": 9080,
    "start_time": "2024-11-28T10:57:38.741Z"
   },
   {
    "duration": 238,
    "start_time": "2024-11-28T10:57:47.823Z"
   },
   {
    "duration": 124,
    "start_time": "2024-11-28T10:57:48.063Z"
   },
   {
    "duration": 51,
    "start_time": "2024-11-28T10:57:48.189Z"
   },
   {
    "duration": 64,
    "start_time": "2024-11-28T10:57:48.242Z"
   },
   {
    "duration": 51,
    "start_time": "2024-11-28T10:57:48.308Z"
   },
   {
    "duration": 51,
    "start_time": "2024-11-28T10:57:48.361Z"
   },
   {
    "duration": 82,
    "start_time": "2024-11-28T10:57:48.413Z"
   },
   {
    "duration": 56,
    "start_time": "2024-11-28T10:57:48.496Z"
   },
   {
    "duration": 58,
    "start_time": "2024-11-28T10:57:48.554Z"
   },
   {
    "duration": 54,
    "start_time": "2024-11-28T10:57:48.613Z"
   },
   {
    "duration": 9306,
    "start_time": "2024-11-29T05:16:41.875Z"
   },
   {
    "duration": 226,
    "start_time": "2024-11-29T05:16:51.183Z"
   },
   {
    "duration": 128,
    "start_time": "2024-11-29T05:16:51.410Z"
   },
   {
    "duration": 51,
    "start_time": "2024-11-29T05:16:51.539Z"
   },
   {
    "duration": 51,
    "start_time": "2024-11-29T05:16:51.592Z"
   },
   {
    "duration": 85,
    "start_time": "2024-11-29T05:16:51.645Z"
   },
   {
    "duration": 50,
    "start_time": "2024-11-29T05:16:51.732Z"
   },
   {
    "duration": 83,
    "start_time": "2024-11-29T05:16:51.784Z"
   },
   {
    "duration": 55,
    "start_time": "2024-11-29T05:16:51.868Z"
   },
   {
    "duration": 99,
    "start_time": "2024-11-29T05:16:51.926Z"
   },
   {
    "duration": 53,
    "start_time": "2024-11-29T05:16:52.027Z"
   },
   {
    "duration": 46,
    "start_time": "2024-11-29T06:07:28.360Z"
   },
   {
    "duration": 7384,
    "start_time": "2024-11-29T06:07:32.371Z"
   },
   {
    "duration": 66,
    "start_time": "2024-11-29T06:07:39.756Z"
   },
   {
    "duration": 31,
    "start_time": "2024-11-29T06:07:39.824Z"
   },
   {
    "duration": 11,
    "start_time": "2024-11-29T06:07:39.856Z"
   },
   {
    "duration": 26,
    "start_time": "2024-11-29T06:07:39.869Z"
   },
   {
    "duration": 11,
    "start_time": "2024-11-29T06:07:39.897Z"
   },
   {
    "duration": 10,
    "start_time": "2024-11-29T06:07:39.910Z"
   },
   {
    "duration": 28,
    "start_time": "2024-11-29T06:07:39.922Z"
   },
   {
    "duration": 15,
    "start_time": "2024-11-29T06:07:39.951Z"
   },
   {
    "duration": 18,
    "start_time": "2024-11-29T06:07:39.967Z"
   },
   {
    "duration": 14,
    "start_time": "2024-11-29T06:07:39.986Z"
   },
   {
    "duration": 13,
    "start_time": "2024-11-29T06:07:40.002Z"
   },
   {
    "duration": 82,
    "start_time": "2024-11-29T06:08:48.704Z"
   },
   {
    "duration": 14,
    "start_time": "2024-11-29T06:09:01.705Z"
   },
   {
    "duration": 60,
    "start_time": "2024-11-29T06:09:21.713Z"
   },
   {
    "duration": 29,
    "start_time": "2024-11-29T06:16:18.155Z"
   },
   {
    "duration": 14,
    "start_time": "2024-11-29T06:17:11.016Z"
   },
   {
    "duration": 75,
    "start_time": "2024-11-29T06:22:21.332Z"
   },
   {
    "duration": 22,
    "start_time": "2024-11-29T06:22:37.130Z"
   },
   {
    "duration": 47,
    "start_time": "2024-11-29T06:22:42.916Z"
   },
   {
    "duration": 84,
    "start_time": "2024-11-29T06:22:50.125Z"
   },
   {
    "duration": 12,
    "start_time": "2024-11-29T06:23:02.027Z"
   },
   {
    "duration": 20,
    "start_time": "2024-11-29T06:27:27.903Z"
   },
   {
    "duration": 18,
    "start_time": "2024-11-29T06:30:04.417Z"
   },
   {
    "duration": 21,
    "start_time": "2024-11-29T06:31:33.003Z"
   },
   {
    "duration": 21,
    "start_time": "2024-11-29T06:31:39.533Z"
   },
   {
    "duration": 15,
    "start_time": "2024-11-29T06:32:03.112Z"
   },
   {
    "duration": 50,
    "start_time": "2024-11-29T06:34:34.935Z"
   },
   {
    "duration": 19,
    "start_time": "2024-11-29T06:37:30.066Z"
   },
   {
    "duration": 16,
    "start_time": "2024-11-29T06:40:12.715Z"
   },
   {
    "duration": 19,
    "start_time": "2024-11-29T06:52:18.242Z"
   },
   {
    "duration": 3,
    "start_time": "2024-11-29T07:03:56.439Z"
   },
   {
    "duration": 3,
    "start_time": "2024-11-29T07:03:57.189Z"
   },
   {
    "duration": 3,
    "start_time": "2024-11-29T07:03:57.772Z"
   },
   {
    "duration": 562,
    "start_time": "2024-11-29T07:27:51.560Z"
   },
   {
    "duration": 3,
    "start_time": "2024-11-29T07:27:52.125Z"
   },
   {
    "duration": 7893,
    "start_time": "2024-11-29T07:27:52.129Z"
   },
   {
    "duration": 66,
    "start_time": "2024-11-29T07:28:00.024Z"
   },
   {
    "duration": 35,
    "start_time": "2024-11-29T07:28:00.092Z"
   },
   {
    "duration": 57,
    "start_time": "2024-11-29T07:28:00.129Z"
   },
   {
    "duration": 26,
    "start_time": "2024-11-29T07:28:00.188Z"
   },
   {
    "duration": 29,
    "start_time": "2024-11-29T07:28:00.216Z"
   },
   {
    "duration": 21,
    "start_time": "2024-11-29T07:28:00.246Z"
   },
   {
    "duration": 35,
    "start_time": "2024-11-29T07:28:00.269Z"
   },
   {
    "duration": 22,
    "start_time": "2024-11-29T07:28:00.305Z"
   },
   {
    "duration": 16,
    "start_time": "2024-11-29T07:28:00.328Z"
   },
   {
    "duration": 89,
    "start_time": "2024-11-29T07:28:00.346Z"
   },
   {
    "duration": 579,
    "start_time": "2024-11-29T15:39:58.427Z"
   },
   {
    "duration": 3,
    "start_time": "2024-11-29T15:39:59.008Z"
   },
   {
    "duration": 10492,
    "start_time": "2024-11-29T15:39:59.013Z"
   },
   {
    "duration": 303,
    "start_time": "2024-11-29T15:40:09.508Z"
   },
   {
    "duration": 156,
    "start_time": "2024-11-29T15:40:09.813Z"
   },
   {
    "duration": 52,
    "start_time": "2024-11-29T15:40:09.971Z"
   },
   {
    "duration": 54,
    "start_time": "2024-11-29T15:40:10.025Z"
   },
   {
    "duration": 53,
    "start_time": "2024-11-29T15:40:10.081Z"
   },
   {
    "duration": 52,
    "start_time": "2024-11-29T15:40:10.136Z"
   },
   {
    "duration": 84,
    "start_time": "2024-11-29T15:40:10.191Z"
   },
   {
    "duration": 57,
    "start_time": "2024-11-29T15:40:10.277Z"
   },
   {
    "duration": 56,
    "start_time": "2024-11-29T15:40:10.336Z"
   },
   {
    "duration": 54,
    "start_time": "2024-11-29T15:40:10.393Z"
   },
   {
    "duration": 497,
    "start_time": "2024-11-29T17:42:40.782Z"
   },
   {
    "duration": 3,
    "start_time": "2024-11-29T17:42:41.281Z"
   },
   {
    "duration": 9750,
    "start_time": "2024-11-29T17:42:41.285Z"
   },
   {
    "duration": 229,
    "start_time": "2024-11-29T17:42:51.038Z"
   },
   {
    "duration": 147,
    "start_time": "2024-11-29T17:42:51.269Z"
   },
   {
    "duration": 50,
    "start_time": "2024-11-29T17:42:51.417Z"
   },
   {
    "duration": 49,
    "start_time": "2024-11-29T17:42:51.468Z"
   },
   {
    "duration": 50,
    "start_time": "2024-11-29T17:42:51.519Z"
   },
   {
    "duration": 48,
    "start_time": "2024-11-29T17:42:51.571Z"
   },
   {
    "duration": 81,
    "start_time": "2024-11-29T17:42:51.621Z"
   },
   {
    "duration": 54,
    "start_time": "2024-11-29T17:42:51.703Z"
   },
   {
    "duration": 133,
    "start_time": "2024-11-29T17:42:51.759Z"
   },
   {
    "duration": 0,
    "start_time": "2024-11-29T17:42:51.893Z"
   },
   {
    "duration": 0,
    "start_time": "2024-11-29T17:42:51.894Z"
   },
   {
    "duration": 0,
    "start_time": "2024-11-29T17:42:51.896Z"
   },
   {
    "duration": 59,
    "start_time": "2024-11-29T17:44:24.702Z"
   },
   {
    "duration": 154,
    "start_time": "2024-11-29T17:44:30.686Z"
   },
   {
    "duration": 163,
    "start_time": "2024-11-29T17:45:43.857Z"
   },
   {
    "duration": 154,
    "start_time": "2024-11-29T17:46:12.078Z"
   },
   {
    "duration": 57,
    "start_time": "2024-11-29T17:46:53.303Z"
   },
   {
    "duration": 57,
    "start_time": "2024-11-29T17:47:08.638Z"
   },
   {
    "duration": 60,
    "start_time": "2024-11-29T17:47:20.330Z"
   },
   {
    "duration": 149,
    "start_time": "2024-11-29T17:48:34.863Z"
   },
   {
    "duration": 150,
    "start_time": "2024-11-29T17:48:59.452Z"
   },
   {
    "duration": 139,
    "start_time": "2024-11-29T17:49:29.152Z"
   },
   {
    "duration": 67,
    "start_time": "2024-11-29T17:58:36.080Z"
   },
   {
    "duration": 60,
    "start_time": "2024-11-29T17:58:44.397Z"
   },
   {
    "duration": 43,
    "start_time": "2024-11-29T17:59:13.497Z"
   },
   {
    "duration": 55,
    "start_time": "2024-11-29T17:59:58.493Z"
   },
   {
    "duration": 68,
    "start_time": "2024-11-29T18:03:37.869Z"
   },
   {
    "duration": 68,
    "start_time": "2024-11-29T18:04:19.328Z"
   },
   {
    "duration": 58,
    "start_time": "2024-11-29T18:05:54.938Z"
   },
   {
    "duration": 57,
    "start_time": "2024-11-29T18:08:32.990Z"
   },
   {
    "duration": 42,
    "start_time": "2024-11-29T18:09:00.995Z"
   },
   {
    "duration": 56,
    "start_time": "2024-11-29T18:09:16.652Z"
   },
   {
    "duration": 55,
    "start_time": "2024-11-29T18:12:29.374Z"
   },
   {
    "duration": 73,
    "start_time": "2024-11-29T18:21:03.047Z"
   },
   {
    "duration": 56,
    "start_time": "2024-11-29T18:21:16.678Z"
   },
   {
    "duration": 175,
    "start_time": "2024-11-29T18:21:39.350Z"
   },
   {
    "duration": 52,
    "start_time": "2024-11-29T18:21:58.884Z"
   },
   {
    "duration": 484,
    "start_time": "2024-11-29T18:22:39.387Z"
   },
   {
    "duration": 3,
    "start_time": "2024-11-29T18:22:39.874Z"
   },
   {
    "duration": 10816,
    "start_time": "2024-11-29T18:22:39.879Z"
   },
   {
    "duration": 224,
    "start_time": "2024-11-29T18:22:50.697Z"
   },
   {
    "duration": 151,
    "start_time": "2024-11-29T18:22:50.922Z"
   },
   {
    "duration": 51,
    "start_time": "2024-11-29T18:22:51.075Z"
   },
   {
    "duration": 52,
    "start_time": "2024-11-29T18:22:51.128Z"
   },
   {
    "duration": 50,
    "start_time": "2024-11-29T18:22:51.182Z"
   },
   {
    "duration": 49,
    "start_time": "2024-11-29T18:22:51.233Z"
   },
   {
    "duration": 89,
    "start_time": "2024-11-29T18:22:51.284Z"
   },
   {
    "duration": 54,
    "start_time": "2024-11-29T18:22:51.375Z"
   },
   {
    "duration": 55,
    "start_time": "2024-11-29T18:22:51.431Z"
   },
   {
    "duration": 54,
    "start_time": "2024-11-29T18:22:51.488Z"
   },
   {
    "duration": 43,
    "start_time": "2024-11-30T06:29:53.984Z"
   },
   {
    "duration": 461,
    "start_time": "2024-11-30T06:30:28.002Z"
   },
   {
    "duration": 3,
    "start_time": "2024-11-30T06:30:28.465Z"
   },
   {
    "duration": 9937,
    "start_time": "2024-11-30T06:30:28.469Z"
   },
   {
    "duration": 246,
    "start_time": "2024-11-30T06:30:38.408Z"
   },
   {
    "duration": 174,
    "start_time": "2024-11-30T06:30:38.655Z"
   },
   {
    "duration": 48,
    "start_time": "2024-11-30T06:30:38.830Z"
   },
   {
    "duration": 49,
    "start_time": "2024-11-30T06:30:38.879Z"
   },
   {
    "duration": 49,
    "start_time": "2024-11-30T06:30:38.929Z"
   },
   {
    "duration": 48,
    "start_time": "2024-11-30T06:30:38.979Z"
   },
   {
    "duration": 79,
    "start_time": "2024-11-30T06:30:39.029Z"
   },
   {
    "duration": 53,
    "start_time": "2024-11-30T06:30:39.109Z"
   },
   {
    "duration": 54,
    "start_time": "2024-11-30T06:30:39.164Z"
   },
   {
    "duration": 51,
    "start_time": "2024-11-30T06:30:39.219Z"
   },
   {
    "duration": 54,
    "start_time": "2024-11-30T06:31:13.856Z"
   },
   {
    "duration": 54,
    "start_time": "2024-11-30T06:31:26.396Z"
   },
   {
    "duration": 54,
    "start_time": "2024-11-30T06:31:34.745Z"
   },
   {
    "duration": 54,
    "start_time": "2024-11-30T06:31:59.956Z"
   }
  ],
  "kernelspec": {
   "display_name": "Python 3 (ipykernel)",
   "language": "python",
   "name": "python3"
  },
  "language_info": {
   "codemirror_mode": {
    "name": "ipython",
    "version": 3
   },
   "file_extension": ".py",
   "mimetype": "text/x-python",
   "name": "python",
   "nbconvert_exporter": "python",
   "pygments_lexer": "ipython3",
   "version": "3.12.4"
  },
  "toc": {
   "base_numbering": 1,
   "nav_menu": {},
   "number_sections": true,
   "sideBar": true,
   "skip_h1_title": true,
   "title_cell": "Table of Contents",
   "title_sidebar": "Contents",
   "toc_cell": false,
   "toc_position": {},
   "toc_section_display": true,
   "toc_window_display": false
  }
 },
 "nbformat": 4,
 "nbformat_minor": 4
}
